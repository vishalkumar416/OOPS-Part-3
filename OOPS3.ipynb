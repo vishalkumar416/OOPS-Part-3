{
 "cells": [
  {
   "cell_type": "code",
   "execution_count": 1,
   "id": "2c1d4b2d-9130-40a7-ab11-ba6fc5f7163c",
   "metadata": {},
   "outputs": [
    {
     "name": "stdout",
     "output_type": "stream",
     "text": [
      "Starting engine of the Sedan...\n",
      "Sedan is accelerating...\n",
      "Starting engine of the SUV...\n",
      "SUV is accelerating...\n"
     ]
    }
   ],
   "source": [
    "# Abstraction in Object-Oriented Programming (OOP) is the concept of hiding the complex implementation details of an object and exposing only the essential features or functionalities that the user needs. It allows you to focus on what an object does rather than how it does it.\n",
    "from abc import ABC, abstractmethod\n",
    "\n",
    "# Abstract class\n",
    "class Car(ABC):\n",
    "    @abstractmethod\n",
    "    def start_engine(self):\n",
    "        pass\n",
    "\n",
    "    @abstractmethod\n",
    "    def accelerate(self):\n",
    "        pass\n",
    "\n",
    "# Concrete class\n",
    "class Sedan(Car):\n",
    "    def start_engine(self):\n",
    "        print(\"Starting engine of the Sedan...\")\n",
    "\n",
    "    def accelerate(self):\n",
    "        print(\"Sedan is accelerating...\")\n",
    "\n",
    "class SUV(Car):\n",
    "    def start_engine(self):\n",
    "        print(\"Starting engine of the SUV...\")\n",
    "\n",
    "    def accelerate(self):\n",
    "        print(\"SUV is accelerating...\")\n",
    "\n",
    "# Using the classes\n",
    "my_car = Sedan()\n",
    "my_car.start_engine()  \n",
    "my_car.accelerate()    \n",
    "\n",
    "another_car = SUV()\n",
    "another_car.start_engine()  \n",
    "another_car.accelerate()    \n"
   ]
  },
  {
   "cell_type": "code",
   "execution_count": 2,
   "id": "9480ae50-ae35-412a-9cb0-8c073c5c959a",
   "metadata": {},
   "outputs": [
    {
     "name": "stdout",
     "output_type": "stream",
     "text": [
      "Deposited $500. New balance is: $1500\n",
      "Withdrew $300. New balance is: $1200\n",
      "1200\n"
     ]
    }
   ],
   "source": [
    "# Abstraction is the process of hiding the complex implementation details and showing only the essential features of an object. It focuses on what an object does rather than how it does it.\n",
    "# Encapsulation is the process of bundling the data (attributes) and the methods (functions) that operate on the data into a single unit or class. It also involves restricting access to some of the object's components, which is a means of data hiding.\n",
    "class BankAccount:\n",
    "    def __init__(self, owner, balance=0):\n",
    "        self.owner = owner       \n",
    "        self.__balance = balance  \n",
    "        \n",
    "    def deposit(self, amount):\n",
    "        if amount > 0:\n",
    "            self.__balance += amount\n",
    "            print(\"Deposited $\" + str(amount) + \". New balance is: $\" + str(self.__balance))\n",
    "        else:\n",
    "            print(\"Deposit amount must be positive.\")\n",
    "\n",
    "    def withdraw(self, amount):\n",
    "        if 0 < amount <= self.__balance:\n",
    "            self.__balance -= amount\n",
    "            print(\"Withdrew $\" + str(amount) + \". New balance is: $\" + str(self.__balance))\n",
    "        else:\n",
    "            print(\"Invalid withdrawal amount or insufficient funds.\")\n",
    "\n",
    "    def get_balance(self):\n",
    "        return self.__balance\n",
    "\n",
    "# Using the BankAccount class\n",
    "account = BankAccount(\"Vishal Kumar\", 1000)\n",
    "account.deposit(500)    \n",
    "account.withdraw(300)   \n",
    "print(account.get_balance())  "
   ]
  },
  {
   "cell_type": "code",
   "execution_count": 3,
   "id": "b491bc2e-7da8-452e-9ff7-31a716699c22",
   "metadata": {},
   "outputs": [],
   "source": [
    "# The abc module in Python stands for Abstract Base Classes. It is a built-in module that provides tools for defining abstract base classes, which are classes that cannot be instantiated on their own and are meant to be subclasses. The abc module is primarily used to enforce that certain methods are implemented in subclasses, thereby providing a way to define a blueprint for other classes.\n",
    "# It used in : \n",
    "# 1)Enforce Method Implementation\n",
    "# 2)Define Abstract Methods\n",
    "# 3)Type Checking"
   ]
  },
  {
   "cell_type": "code",
   "execution_count": 4,
   "id": "5f75b4f5-37fc-4319-a426-dec0b91b0129",
   "metadata": {},
   "outputs": [],
   "source": [
    "# Data Abstraction can achieve data abstraction in Python:\n",
    "# 1)Using Classes\n",
    "# 2)Access Modifiers\n",
    "# 3)Using Abstract Classes and Methods"
   ]
  },
  {
   "cell_type": "code",
   "execution_count": 5,
   "id": "5ae39d2a-85ce-4bb4-b9d7-af75ff99581f",
   "metadata": {},
   "outputs": [
    {
     "name": "stdout",
     "output_type": "stream",
     "text": [
      "200\n",
      "60\n"
     ]
    }
   ],
   "source": [
    "# No, we cannot create an instance of an abstract class in Python . The primary purpose of an abstract class is to serve as a blueprint for other classes, rather than to be instantiated directly.\n",
    "\n",
    "# Abstract Class Definition:\n",
    "# An abstract class is a class that contains one or more abstract methods. An abstract method is a method that is declared but contains no implementation. In Python, abstract classes are defined using the abc module, and abstract methods are decorated with the @abstractmethod decorator.\n",
    "\n",
    "# Instantiation of Abstract Class:\n",
    "# Since an abstract class is meant to be a base class for other classes to inherit from, it cannot be instantiated directly. Attempting to create an instance of an abstract class will result in a TypeError.\n",
    "\n",
    "# Purpose of Abstract Classes:\n",
    "# The purpose of an abstract class is to provide a common interface and ensure that certain methods are implemented by all subclasses. Subclasses that inherit from the abstract class must provide concrete implementations for all abstract methods.\n",
    "\n",
    "# Example : \n",
    "from abc import ABC, abstractmethod\n",
    "\n",
    "# Defining an abstract class\n",
    "class Shape(ABC):\n",
    "    @abstractmethod\n",
    "    def area(self):\n",
    "        pass\n",
    "\n",
    "    @abstractmethod\n",
    "    def perimeter(self):\n",
    "        pass\n",
    "\n",
    "# Subclass inheriting from abstract class\n",
    "class Rectangle(Shape):\n",
    "    def __init__(self, width, height):\n",
    "        self.width = width\n",
    "        self.height = height\n",
    "\n",
    "    def area(self):\n",
    "        return self.width * self.height\n",
    "\n",
    "    def perimeter(self):\n",
    "        return 2 * (self.width + self.height)\n",
    "\n",
    "# Creating an instance of the subclass\n",
    "rectangle = Rectangle(10, 20)\n",
    "print(rectangle.area())      \n",
    "print(rectangle.perimeter())  "
   ]
  },
  {
   "cell_type": "code",
   "execution_count": null,
   "id": "274b4c05-a35d-4f70-9664-a1a23b53d97a",
   "metadata": {},
   "outputs": [],
   "source": []
  }
 ],
 "metadata": {
  "kernelspec": {
   "display_name": "Python 3 (ipykernel)",
   "language": "python",
   "name": "python3"
  },
  "language_info": {
   "codemirror_mode": {
    "name": "ipython",
    "version": 3
   },
   "file_extension": ".py",
   "mimetype": "text/x-python",
   "name": "python",
   "nbconvert_exporter": "python",
   "pygments_lexer": "ipython3",
   "version": "3.11.7"
  }
 },
 "nbformat": 4,
 "nbformat_minor": 5
}
